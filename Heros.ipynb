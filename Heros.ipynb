{
 "metadata": {
  "language_info": {
   "codemirror_mode": {
    "name": "ipython",
    "version": 3
   },
   "file_extension": ".py",
   "mimetype": "text/x-python",
   "name": "python",
   "nbconvert_exporter": "python",
   "pygments_lexer": "ipython3",
   "version": "3.8.5-final"
  },
  "orig_nbformat": 2,
  "kernelspec": {
   "name": "python3",
   "display_name": "Python 3.8.5 64-bit ('base': conda)",
   "metadata": {
    "interpreter": {
     "hash": "dc7d0af18ce639f8f790cddf21347ad1ea8f8836734ea05e44121f7d0d344c96"
    }
   }
  }
 },
 "nbformat": 4,
 "nbformat_minor": 2,
 "cells": [
  {
   "cell_type": "code",
   "execution_count": 152,
   "metadata": {},
   "outputs": [],
   "source": [
    "import pandas as pd\n",
    "\n",
    "#Files to load\n",
    "file_to_load = \"HeroesOfPymol/Resources/purchase_data.csv\"\n",
    "\n",
    "#Creating the data field\n",
    "\n",
    "purchase_data = pd.read_csv(file_to_load)"
   ]
  },
  {
   "cell_type": "code",
   "execution_count": 153,
   "metadata": {},
   "outputs": [
    {
     "output_type": "execute_result",
     "data": {
      "text/plain": [
       "Index(['Purchase ID', 'SN', 'Age', 'Gender', 'Item ID', 'Item Name', 'Price'], dtype='object')"
      ]
     },
     "metadata": {},
     "execution_count": 153
    }
   ],
   "source": [
    "purchase_data.columns"
   ]
  },
  {
   "cell_type": "code",
   "execution_count": 154,
   "metadata": {},
   "outputs": [
    {
     "output_type": "execute_result",
     "data": {
      "text/plain": [
       "              SN\n",
       "0        Lisim78\n",
       "1    Lisovynya38\n",
       "2     Ithergue48\n",
       "3  Chamassasya86\n",
       "4      Iskosia90"
      ],
      "text/html": "<div>\n<style scoped>\n    .dataframe tbody tr th:only-of-type {\n        vertical-align: middle;\n    }\n\n    .dataframe tbody tr th {\n        vertical-align: top;\n    }\n\n    .dataframe thead th {\n        text-align: right;\n    }\n</style>\n<table border=\"1\" class=\"dataframe\">\n  <thead>\n    <tr style=\"text-align: right;\">\n      <th></th>\n      <th>SN</th>\n    </tr>\n  </thead>\n  <tbody>\n    <tr>\n      <th>0</th>\n      <td>Lisim78</td>\n    </tr>\n    <tr>\n      <th>1</th>\n      <td>Lisovynya38</td>\n    </tr>\n    <tr>\n      <th>2</th>\n      <td>Ithergue48</td>\n    </tr>\n    <tr>\n      <th>3</th>\n      <td>Chamassasya86</td>\n    </tr>\n    <tr>\n      <th>4</th>\n      <td>Iskosia90</td>\n    </tr>\n  </tbody>\n</table>\n</div>"
     },
     "metadata": {},
     "execution_count": 154
    }
   ],
   "source": [
    "total_players_df = purchase_data[['SN']]\n",
    "total_players_df.head()"
   ]
  },
  {
   "cell_type": "code",
   "execution_count": 155,
   "metadata": {},
   "outputs": [],
   "source": [
    "renamed_player_df = total_players_df.rename(columns={'SN' : 'Total Players'})"
   ]
  },
  {
   "cell_type": "code",
   "execution_count": 156,
   "metadata": {},
   "outputs": [
    {
     "output_type": "execute_result",
     "data": {
      "text/plain": [
       "     Total Players\n",
       "0          Lisim78\n",
       "1      Lisovynya38\n",
       "2       Ithergue48\n",
       "3    Chamassasya86\n",
       "4        Iskosia90\n",
       "..             ...\n",
       "775     Aethedru70\n",
       "776         Iral74\n",
       "777     Yathecal72\n",
       "778        Sisur91\n",
       "779      Ennrian78\n",
       "\n",
       "[780 rows x 1 columns]"
      ],
      "text/html": "<div>\n<style scoped>\n    .dataframe tbody tr th:only-of-type {\n        vertical-align: middle;\n    }\n\n    .dataframe tbody tr th {\n        vertical-align: top;\n    }\n\n    .dataframe thead th {\n        text-align: right;\n    }\n</style>\n<table border=\"1\" class=\"dataframe\">\n  <thead>\n    <tr style=\"text-align: right;\">\n      <th></th>\n      <th>Total Players</th>\n    </tr>\n  </thead>\n  <tbody>\n    <tr>\n      <th>0</th>\n      <td>Lisim78</td>\n    </tr>\n    <tr>\n      <th>1</th>\n      <td>Lisovynya38</td>\n    </tr>\n    <tr>\n      <th>2</th>\n      <td>Ithergue48</td>\n    </tr>\n    <tr>\n      <th>3</th>\n      <td>Chamassasya86</td>\n    </tr>\n    <tr>\n      <th>4</th>\n      <td>Iskosia90</td>\n    </tr>\n    <tr>\n      <th>...</th>\n      <td>...</td>\n    </tr>\n    <tr>\n      <th>775</th>\n      <td>Aethedru70</td>\n    </tr>\n    <tr>\n      <th>776</th>\n      <td>Iral74</td>\n    </tr>\n    <tr>\n      <th>777</th>\n      <td>Yathecal72</td>\n    </tr>\n    <tr>\n      <th>778</th>\n      <td>Sisur91</td>\n    </tr>\n    <tr>\n      <th>779</th>\n      <td>Ennrian78</td>\n    </tr>\n  </tbody>\n</table>\n<p>780 rows × 1 columns</p>\n</div>"
     },
     "metadata": {},
     "execution_count": 156
    }
   ],
   "source": [
    "renamed_player_df"
   ]
  },
  {
   "cell_type": "code",
   "execution_count": 157,
   "metadata": {},
   "outputs": [
    {
     "output_type": "execute_result",
     "data": {
      "text/plain": [
       "Total Players    780\n",
       "dtype: int64"
      ]
     },
     "metadata": {},
     "execution_count": 157
    }
   ],
   "source": [
    "count = renamed_player_df.count()\n",
    "count"
   ]
  },
  {
   "cell_type": "code",
   "execution_count": 158,
   "metadata": {},
   "outputs": [
    {
     "output_type": "execute_result",
     "data": {
      "text/plain": [
       "3.0509871794871795"
      ]
     },
     "metadata": {},
     "execution_count": 158
    }
   ],
   "source": [
    "#Finds number of unique items \n",
    "uniqueItems= len(purchase_data[\"Item ID\"].unique())\n",
    "uniqueItems\n",
    "\n",
    "#count of all item in \"purchase id\"\n",
    "total_purch = purchase_data[\"Purchase ID\"].count()\n",
    "total_purch\n",
    "\n",
    "#finds total revenue\n",
    "totalRev = purchase_data[\"Price\"].sum()\n",
    "totalRev\n",
    "\n",
    "#variable for average price\n",
    "avgPrice_var = purchase_data[\"Price\"].mean()\n",
    "avgPrice_var\n",
    "\n",
    "#average price to use in calculations\n",
    "avgPrice = totalRev/total_purch\n",
    "avgPrice\n"
   ]
  },
  {
   "cell_type": "code",
   "execution_count": 159,
   "metadata": {},
   "outputs": [
    {
     "output_type": "execute_result",
     "data": {
      "text/plain": [
       "   Number of Unique Items  Average Price  Number of Purchases  Total Revenue\n",
       "0                     179       3.050987                  780        2379.77"
      ],
      "text/html": "<div>\n<style scoped>\n    .dataframe tbody tr th:only-of-type {\n        vertical-align: middle;\n    }\n\n    .dataframe tbody tr th {\n        vertical-align: top;\n    }\n\n    .dataframe thead th {\n        text-align: right;\n    }\n</style>\n<table border=\"1\" class=\"dataframe\">\n  <thead>\n    <tr style=\"text-align: right;\">\n      <th></th>\n      <th>Number of Unique Items</th>\n      <th>Average Price</th>\n      <th>Number of Purchases</th>\n      <th>Total Revenue</th>\n    </tr>\n  </thead>\n  <tbody>\n    <tr>\n      <th>0</th>\n      <td>179</td>\n      <td>3.050987</td>\n      <td>780</td>\n      <td>2379.77</td>\n    </tr>\n  </tbody>\n</table>\n</div>"
     },
     "metadata": {},
     "execution_count": 159
    }
   ],
   "source": [
    "#Summary DataFrame\n",
    "analysis_df = pd.DataFrame([{\"Number of Unique Items\": uniqueItems,\n",
    "\"Average Price\": avgPrice, \"Number of Purchases\": totalPurch, \"Total Revenue\": totalRev}])\n",
    "analysis_df.head()"
   ]
  },
  {
   "cell_type": "code",
   "execution_count": 160,
   "metadata": {},
   "outputs": [
    {
     "output_type": "execute_result",
     "data": {
      "text/plain": [
       "                          Gender\n",
       "Male                   83.589744\n",
       "Female                 14.487179\n",
       "Other / Non-Disclosed   1.923077"
      ],
      "text/html": "<div>\n<style scoped>\n    .dataframe tbody tr th:only-of-type {\n        vertical-align: middle;\n    }\n\n    .dataframe tbody tr th {\n        vertical-align: top;\n    }\n\n    .dataframe thead th {\n        text-align: right;\n    }\n</style>\n<table border=\"1\" class=\"dataframe\">\n  <thead>\n    <tr style=\"text-align: right;\">\n      <th></th>\n      <th>Gender</th>\n    </tr>\n  </thead>\n  <tbody>\n    <tr>\n      <th>Male</th>\n      <td>83.589744</td>\n    </tr>\n    <tr>\n      <th>Female</th>\n      <td>14.487179</td>\n    </tr>\n    <tr>\n      <th>Other / Non-Disclosed</th>\n      <td>1.923077</td>\n    </tr>\n  </tbody>\n</table>\n</div>"
     },
     "metadata": {},
     "execution_count": 160
    }
   ],
   "source": [
    "gender_df = pd.DataFrame(purchase_data[\"Gender\"].value_counts())\n",
    "gender_df\n",
    "\n",
    "#percent_ofplayers = (purchase_data[\"Gender\"].value_counts() / total_players_df)*100\n",
    "#percent_ofplayers\n",
    "total_players = gender_df.sum()\n",
    "percent_ofplayers = gender_df / total_players *100\n",
    "percent_ofplayers\n",
    "\n",
    "\n"
   ]
  },
  {
   "cell_type": "code",
   "execution_count": 161,
   "metadata": {},
   "outputs": [
    {
     "output_type": "execute_result",
     "data": {
      "text/plain": [
       "                       Purchase ID   SN  Age  Item ID  Item Name  Price\n",
       "Gender                                                                 \n",
       "Other / Non-Disclosed           15   15   15       15         15     15\n",
       "Female                         113  113  113      113        113    113\n",
       "Male                           652  652  652      652        652    652"
      ],
      "text/html": "<div>\n<style scoped>\n    .dataframe tbody tr th:only-of-type {\n        vertical-align: middle;\n    }\n\n    .dataframe tbody tr th {\n        vertical-align: top;\n    }\n\n    .dataframe thead th {\n        text-align: right;\n    }\n</style>\n<table border=\"1\" class=\"dataframe\">\n  <thead>\n    <tr style=\"text-align: right;\">\n      <th></th>\n      <th>Purchase ID</th>\n      <th>SN</th>\n      <th>Age</th>\n      <th>Item ID</th>\n      <th>Item Name</th>\n      <th>Price</th>\n    </tr>\n    <tr>\n      <th>Gender</th>\n      <th></th>\n      <th></th>\n      <th></th>\n      <th></th>\n      <th></th>\n      <th></th>\n    </tr>\n  </thead>\n  <tbody>\n    <tr>\n      <th>Other / Non-Disclosed</th>\n      <td>15</td>\n      <td>15</td>\n      <td>15</td>\n      <td>15</td>\n      <td>15</td>\n      <td>15</td>\n    </tr>\n    <tr>\n      <th>Female</th>\n      <td>113</td>\n      <td>113</td>\n      <td>113</td>\n      <td>113</td>\n      <td>113</td>\n      <td>113</td>\n    </tr>\n    <tr>\n      <th>Male</th>\n      <td>652</td>\n      <td>652</td>\n      <td>652</td>\n      <td>652</td>\n      <td>652</td>\n      <td>652</td>\n    </tr>\n  </tbody>\n</table>\n</div>"
     },
     "metadata": {},
     "execution_count": 161
    }
   ],
   "source": [
    "purchase_df = gender_df.copy()\n",
    "purchase_df\n",
    "\n",
    "purchaseCount = purchase_data.groupby([\"Gender\"]).count().sort_values([\"Purchase ID\"])\n",
    "purchaseCount\n"
   ]
  },
  {
   "cell_type": "code",
   "execution_count": 162,
   "metadata": {},
   "outputs": [
    {
     "output_type": "execute_result",
     "data": {
      "text/plain": [
       "Gender\n",
       "Female                   3.203009\n",
       "Male                     3.017853\n",
       "Other / Non-Disclosed    3.346000\n",
       "Name: Price, dtype: float64"
      ]
     },
     "metadata": {},
     "execution_count": 162
    }
   ],
   "source": [
    "gender_average_price = purchase_data.groupby([\"Gender\"])[\"Price\"].mean()\n",
    "gender_average_price\n"
   ]
  },
  {
   "cell_type": "code",
   "execution_count": 163,
   "metadata": {},
   "outputs": [
    {
     "output_type": "execute_result",
     "data": {
      "text/plain": [
       "Gender\n",
       "Female                    361.94\n",
       "Male                     1967.64\n",
       "Other / Non-Disclosed      50.19\n",
       "Name: Price, dtype: float64"
      ]
     },
     "metadata": {},
     "execution_count": 163
    }
   ],
   "source": [
    "gender_purchase_value = purchase_data.groupby([\"Gender\"])[\"Price\"].sum()\n",
    "gender_purchase_value"
   ]
  },
  {
   "cell_type": "code",
   "execution_count": 164,
   "metadata": {},
   "outputs": [
    {
     "output_type": "execute_result",
     "data": {
      "text/plain": [
       "Gender\n",
       "Female                   3.194835\n",
       "Male                     3.014269\n",
       "Other / Non-Disclosed    3.348636\n",
       "Name: Price, dtype: float64"
      ]
     },
     "metadata": {},
     "execution_count": 164
    }
   ],
   "source": [
    "per_person = purchase_data.groupby([\"Gender\",\"SN\"])[\"Price\"].mean().reset_index()\n",
    "per_person.groupby([\"Gender\"])[\"Price\"].mean()\n",
    "#per_person"
   ]
  },
  {
   "cell_type": "code",
   "execution_count": 165,
   "metadata": {},
   "outputs": [],
   "source": [
    "#Bin for ages\n",
    "age_bins = [0, 9.90, 14.90, 19.90, 24.90, 29.90, 34.90, 39.90, 99999]"
   ]
  },
  {
   "cell_type": "code",
   "execution_count": 166,
   "metadata": {},
   "outputs": [],
   "source": [
    "#This gives a name to the bin I just created\n",
    "group_names = [\"<10\", \"10-14\", \"15-19\", \"20-24\", \"25-29\", \"30-34\", \"35-39\", \"40+\"]\n"
   ]
  },
  {
   "cell_type": "code",
   "execution_count": 167,
   "metadata": {},
   "outputs": [
    {
     "output_type": "execute_result",
     "data": {
      "text/plain": [
       "     Purchase ID             SN  Age  Gender  Item ID  \\\n",
       "0              0        Lisim78   20    Male      108   \n",
       "1              1    Lisovynya38   40    Male      143   \n",
       "2              2     Ithergue48   24    Male       92   \n",
       "3              3  Chamassasya86   24    Male      100   \n",
       "4              4      Iskosia90   23    Male      131   \n",
       "..           ...            ...  ...     ...      ...   \n",
       "775          775     Aethedru70   21  Female       60   \n",
       "776          776         Iral74   21    Male      164   \n",
       "777          777     Yathecal72   20    Male       67   \n",
       "778          778        Sisur91    7    Male       92   \n",
       "779          779      Ennrian78   24    Male       50   \n",
       "\n",
       "                                     Item Name  Price Age Summary  \n",
       "0    Extraction, Quickblade Of Trembling Hands   3.53       20-24  \n",
       "1                            Frenzied Scimitar   1.56         40+  \n",
       "2                                 Final Critic   4.88       20-24  \n",
       "3                                  Blindscythe   3.27       20-24  \n",
       "4                                         Fury   1.44       20-24  \n",
       "..                                         ...    ...         ...  \n",
       "775                                       Wolf   3.54       20-24  \n",
       "776                           Exiled Doomblade   1.63       20-24  \n",
       "777      Celeste, Incarnation of the Corrupted   3.46       20-24  \n",
       "778                               Final Critic   4.19         <10  \n",
       "779                                       Dawn   4.60       20-24  \n",
       "\n",
       "[780 rows x 8 columns]"
      ],
      "text/html": "<div>\n<style scoped>\n    .dataframe tbody tr th:only-of-type {\n        vertical-align: middle;\n    }\n\n    .dataframe tbody tr th {\n        vertical-align: top;\n    }\n\n    .dataframe thead th {\n        text-align: right;\n    }\n</style>\n<table border=\"1\" class=\"dataframe\">\n  <thead>\n    <tr style=\"text-align: right;\">\n      <th></th>\n      <th>Purchase ID</th>\n      <th>SN</th>\n      <th>Age</th>\n      <th>Gender</th>\n      <th>Item ID</th>\n      <th>Item Name</th>\n      <th>Price</th>\n      <th>Age Summary</th>\n    </tr>\n  </thead>\n  <tbody>\n    <tr>\n      <th>0</th>\n      <td>0</td>\n      <td>Lisim78</td>\n      <td>20</td>\n      <td>Male</td>\n      <td>108</td>\n      <td>Extraction, Quickblade Of Trembling Hands</td>\n      <td>3.53</td>\n      <td>20-24</td>\n    </tr>\n    <tr>\n      <th>1</th>\n      <td>1</td>\n      <td>Lisovynya38</td>\n      <td>40</td>\n      <td>Male</td>\n      <td>143</td>\n      <td>Frenzied Scimitar</td>\n      <td>1.56</td>\n      <td>40+</td>\n    </tr>\n    <tr>\n      <th>2</th>\n      <td>2</td>\n      <td>Ithergue48</td>\n      <td>24</td>\n      <td>Male</td>\n      <td>92</td>\n      <td>Final Critic</td>\n      <td>4.88</td>\n      <td>20-24</td>\n    </tr>\n    <tr>\n      <th>3</th>\n      <td>3</td>\n      <td>Chamassasya86</td>\n      <td>24</td>\n      <td>Male</td>\n      <td>100</td>\n      <td>Blindscythe</td>\n      <td>3.27</td>\n      <td>20-24</td>\n    </tr>\n    <tr>\n      <th>4</th>\n      <td>4</td>\n      <td>Iskosia90</td>\n      <td>23</td>\n      <td>Male</td>\n      <td>131</td>\n      <td>Fury</td>\n      <td>1.44</td>\n      <td>20-24</td>\n    </tr>\n    <tr>\n      <th>...</th>\n      <td>...</td>\n      <td>...</td>\n      <td>...</td>\n      <td>...</td>\n      <td>...</td>\n      <td>...</td>\n      <td>...</td>\n      <td>...</td>\n    </tr>\n    <tr>\n      <th>775</th>\n      <td>775</td>\n      <td>Aethedru70</td>\n      <td>21</td>\n      <td>Female</td>\n      <td>60</td>\n      <td>Wolf</td>\n      <td>3.54</td>\n      <td>20-24</td>\n    </tr>\n    <tr>\n      <th>776</th>\n      <td>776</td>\n      <td>Iral74</td>\n      <td>21</td>\n      <td>Male</td>\n      <td>164</td>\n      <td>Exiled Doomblade</td>\n      <td>1.63</td>\n      <td>20-24</td>\n    </tr>\n    <tr>\n      <th>777</th>\n      <td>777</td>\n      <td>Yathecal72</td>\n      <td>20</td>\n      <td>Male</td>\n      <td>67</td>\n      <td>Celeste, Incarnation of the Corrupted</td>\n      <td>3.46</td>\n      <td>20-24</td>\n    </tr>\n    <tr>\n      <th>778</th>\n      <td>778</td>\n      <td>Sisur91</td>\n      <td>7</td>\n      <td>Male</td>\n      <td>92</td>\n      <td>Final Critic</td>\n      <td>4.19</td>\n      <td>&lt;10</td>\n    </tr>\n    <tr>\n      <th>779</th>\n      <td>779</td>\n      <td>Ennrian78</td>\n      <td>24</td>\n      <td>Male</td>\n      <td>50</td>\n      <td>Dawn</td>\n      <td>4.60</td>\n      <td>20-24</td>\n    </tr>\n  </tbody>\n</table>\n<p>780 rows × 8 columns</p>\n</div>"
     },
     "metadata": {},
     "execution_count": 167
    }
   ],
   "source": [
    "grp_by_age_purchase_data_df = purchase_data.copy()\n",
    "grp_by_age_purchase_data_df[\"Age Summary\"] = pd.cut(grp_by_age_purchase_data_df[\"Age\"], age_bins, labels=group_names)\n",
    "grp_by_age_purchase_data_df \n",
    "# purchase_analysis_df = pd.DataFrame(grp_by_age_purchase_data_df[\"Age Summary\"])\n",
    "# purchase_analysis_df\n",
    "\n"
   ]
  },
  {
   "cell_type": "code",
   "execution_count": 168,
   "metadata": {},
   "outputs": [
    {
     "output_type": "execute_result",
     "data": {
      "text/plain": [
       "Age Summary\n",
       "<10      3.353478\n",
       "10-14    2.956429\n",
       "15-19    3.035956\n",
       "20-24    3.052219\n",
       "25-29    2.900990\n",
       "30-34    2.931507\n",
       "35-39    3.601707\n",
       "40+      2.941538\n",
       "Name: Price, dtype: float64"
      ]
     },
     "metadata": {},
     "execution_count": 168
    }
   ],
   "source": [
    "avg_purchase_price = grp_by_age_purchase_data_df.groupby([\"Age Summary\"])[\"Price\"].mean()\n",
    "avg_purchase_price"
   ]
  },
  {
   "cell_type": "code",
   "execution_count": 173,
   "metadata": {},
   "outputs": [
    {
     "output_type": "execute_result",
     "data": {
      "text/plain": [
       "             Average Purchase Price\n",
       "Age Summary                        \n",
       "<10                        3.353478\n",
       "10-14                      2.956429\n",
       "15-19                      3.035956\n",
       "20-24                      3.052219\n",
       "25-29                      2.900990\n",
       "30-34                      2.931507\n",
       "35-39                      3.601707\n",
       "40+                        2.941538"
      ],
      "text/html": "<div>\n<style scoped>\n    .dataframe tbody tr th:only-of-type {\n        vertical-align: middle;\n    }\n\n    .dataframe tbody tr th {\n        vertical-align: top;\n    }\n\n    .dataframe thead th {\n        text-align: right;\n    }\n</style>\n<table border=\"1\" class=\"dataframe\">\n  <thead>\n    <tr style=\"text-align: right;\">\n      <th></th>\n      <th>Average Purchase Price</th>\n    </tr>\n    <tr>\n      <th>Age Summary</th>\n      <th></th>\n    </tr>\n  </thead>\n  <tbody>\n    <tr>\n      <th>&lt;10</th>\n      <td>3.353478</td>\n    </tr>\n    <tr>\n      <th>10-14</th>\n      <td>2.956429</td>\n    </tr>\n    <tr>\n      <th>15-19</th>\n      <td>3.035956</td>\n    </tr>\n    <tr>\n      <th>20-24</th>\n      <td>3.052219</td>\n    </tr>\n    <tr>\n      <th>25-29</th>\n      <td>2.900990</td>\n    </tr>\n    <tr>\n      <th>30-34</th>\n      <td>2.931507</td>\n    </tr>\n    <tr>\n      <th>35-39</th>\n      <td>3.601707</td>\n    </tr>\n    <tr>\n      <th>40+</th>\n      <td>2.941538</td>\n    </tr>\n  </tbody>\n</table>\n</div>"
     },
     "metadata": {},
     "execution_count": 173
    }
   ],
   "source": [
    "#Purchase analysis\n",
    "purchase_analysis_df = pd.DataFrame(avg_purchase_price)\n",
    "purchase_analysis_df.columns=[\"Average Purchase Price\"]\n",
    "purchase_analysis_df"
   ]
  },
  {
   "cell_type": "code",
   "execution_count": 178,
   "metadata": {},
   "outputs": [
    {
     "output_type": "execute_result",
     "data": {
      "text/plain": [
       "             Average Purchase Price  Total Purchase Value  Purchase Count\n",
       "Age Summary                                                              \n",
       "<10                        3.353478                 77.13              23\n",
       "10-14                      2.956429                 82.78              28\n",
       "15-19                      3.035956                412.89             136\n",
       "20-24                      3.052219               1114.06             365\n",
       "25-29                      2.900990                293.00             101\n",
       "30-34                      2.931507                214.00              73\n",
       "35-39                      3.601707                147.67              41\n",
       "40+                        2.941538                 38.24              13"
      ],
      "text/html": "<div>\n<style scoped>\n    .dataframe tbody tr th:only-of-type {\n        vertical-align: middle;\n    }\n\n    .dataframe tbody tr th {\n        vertical-align: top;\n    }\n\n    .dataframe thead th {\n        text-align: right;\n    }\n</style>\n<table border=\"1\" class=\"dataframe\">\n  <thead>\n    <tr style=\"text-align: right;\">\n      <th></th>\n      <th>Average Purchase Price</th>\n      <th>Total Purchase Value</th>\n      <th>Purchase Count</th>\n    </tr>\n    <tr>\n      <th>Age Summary</th>\n      <th></th>\n      <th></th>\n      <th></th>\n    </tr>\n  </thead>\n  <tbody>\n    <tr>\n      <th>&lt;10</th>\n      <td>3.353478</td>\n      <td>77.13</td>\n      <td>23</td>\n    </tr>\n    <tr>\n      <th>10-14</th>\n      <td>2.956429</td>\n      <td>82.78</td>\n      <td>28</td>\n    </tr>\n    <tr>\n      <th>15-19</th>\n      <td>3.035956</td>\n      <td>412.89</td>\n      <td>136</td>\n    </tr>\n    <tr>\n      <th>20-24</th>\n      <td>3.052219</td>\n      <td>1114.06</td>\n      <td>365</td>\n    </tr>\n    <tr>\n      <th>25-29</th>\n      <td>2.900990</td>\n      <td>293.00</td>\n      <td>101</td>\n    </tr>\n    <tr>\n      <th>30-34</th>\n      <td>2.931507</td>\n      <td>214.00</td>\n      <td>73</td>\n    </tr>\n    <tr>\n      <th>35-39</th>\n      <td>3.601707</td>\n      <td>147.67</td>\n      <td>41</td>\n    </tr>\n    <tr>\n      <th>40+</th>\n      <td>2.941538</td>\n      <td>38.24</td>\n      <td>13</td>\n    </tr>\n  </tbody>\n</table>\n</div>"
     },
     "metadata": {},
     "execution_count": 178
    }
   ],
   "source": [
    "#Calculates total purchase by age and price\n",
    "total_purchase_price = grp_by_age_purchase_data_df.groupby([\"Age Summary\"])[\"Price\"].sum()\n",
    "total_purchase_price\n",
    "purchase_analysis_df[\"Total Purchase Value\"]=total_purchase_price\n",
    "purchase_analysis_df"
   ]
  },
  {
   "cell_type": "code",
   "execution_count": 181,
   "metadata": {},
   "outputs": [
    {
     "output_type": "execute_result",
     "data": {
      "text/plain": [
       "             Average Purchase Price  Total Purchase Value  Purchase Count  \\\n",
       "Age Summary                                                                 \n",
       "<10                        3.353478                 77.13              23   \n",
       "10-14                      2.956429                 82.78              28   \n",
       "15-19                      3.035956                412.89             136   \n",
       "20-24                      3.052219               1114.06             365   \n",
       "25-29                      2.900990                293.00             101   \n",
       "30-34                      2.931507                214.00              73   \n",
       "35-39                      3.601707                147.67              41   \n",
       "40+                        2.941538                 38.24              13   \n",
       "\n",
       "             Avg Total Purchase per Person  \n",
       "Age Summary                                 \n",
       "<10                               3.353478  \n",
       "10-14                             2.956429  \n",
       "15-19                             3.035956  \n",
       "20-24                             3.052219  \n",
       "25-29                             2.900990  \n",
       "30-34                             2.931507  \n",
       "35-39                             3.601707  \n",
       "40+                               2.941538  "
      ],
      "text/html": "<div>\n<style scoped>\n    .dataframe tbody tr th:only-of-type {\n        vertical-align: middle;\n    }\n\n    .dataframe tbody tr th {\n        vertical-align: top;\n    }\n\n    .dataframe thead th {\n        text-align: right;\n    }\n</style>\n<table border=\"1\" class=\"dataframe\">\n  <thead>\n    <tr style=\"text-align: right;\">\n      <th></th>\n      <th>Average Purchase Price</th>\n      <th>Total Purchase Value</th>\n      <th>Purchase Count</th>\n      <th>Avg Total Purchase per Person</th>\n    </tr>\n    <tr>\n      <th>Age Summary</th>\n      <th></th>\n      <th></th>\n      <th></th>\n      <th></th>\n    </tr>\n  </thead>\n  <tbody>\n    <tr>\n      <th>&lt;10</th>\n      <td>3.353478</td>\n      <td>77.13</td>\n      <td>23</td>\n      <td>3.353478</td>\n    </tr>\n    <tr>\n      <th>10-14</th>\n      <td>2.956429</td>\n      <td>82.78</td>\n      <td>28</td>\n      <td>2.956429</td>\n    </tr>\n    <tr>\n      <th>15-19</th>\n      <td>3.035956</td>\n      <td>412.89</td>\n      <td>136</td>\n      <td>3.035956</td>\n    </tr>\n    <tr>\n      <th>20-24</th>\n      <td>3.052219</td>\n      <td>1114.06</td>\n      <td>365</td>\n      <td>3.052219</td>\n    </tr>\n    <tr>\n      <th>25-29</th>\n      <td>2.900990</td>\n      <td>293.00</td>\n      <td>101</td>\n      <td>2.900990</td>\n    </tr>\n    <tr>\n      <th>30-34</th>\n      <td>2.931507</td>\n      <td>214.00</td>\n      <td>73</td>\n      <td>2.931507</td>\n    </tr>\n    <tr>\n      <th>35-39</th>\n      <td>3.601707</td>\n      <td>147.67</td>\n      <td>41</td>\n      <td>3.601707</td>\n    </tr>\n    <tr>\n      <th>40+</th>\n      <td>2.941538</td>\n      <td>38.24</td>\n      <td>13</td>\n      <td>2.941538</td>\n    </tr>\n  </tbody>\n</table>\n</div>"
     },
     "metadata": {},
     "execution_count": 181
    }
   ],
   "source": [
    "#solve for average total purchase \n",
    "avg_total_purch = grp_by_age_purchase_data_df.groupby([\"Age Summary\"])[\"Price\"].sum()\n",
    "avg_total_purch /= grp_by_age_purchase_data_df.groupby([\"Age Summary\"])[\"SN\"].count()\n",
    "avg_total_purch\n",
    "purchase_analysis_df[\"Avg Total Purchase per Person\"]=avg_total_purch\n",
    "purchase_analysis_df"
   ]
  },
  {
   "cell_type": "code",
   "execution_count": 239,
   "metadata": {},
   "outputs": [
    {
     "output_type": "execute_result",
     "data": {
      "text/plain": [
       "             Purchase Count Average Purchase Price Total Purchase Value\n",
       "SN                                                                     \n",
       "Lisosia93                 5                  $3.79               $18.96\n",
       "Idastidru52               4                  $3.86               $15.45\n",
       "Chamjask73                3                  $4.61               $13.83\n",
       "Iral74                    4                  $3.40               $13.62\n",
       "Iskadarya95               3                  $4.37               $13.10"
      ],
      "text/html": "<div>\n<style scoped>\n    .dataframe tbody tr th:only-of-type {\n        vertical-align: middle;\n    }\n\n    .dataframe tbody tr th {\n        vertical-align: top;\n    }\n\n    .dataframe thead th {\n        text-align: right;\n    }\n</style>\n<table border=\"1\" class=\"dataframe\">\n  <thead>\n    <tr style=\"text-align: right;\">\n      <th></th>\n      <th>Purchase Count</th>\n      <th>Average Purchase Price</th>\n      <th>Total Purchase Value</th>\n    </tr>\n    <tr>\n      <th>SN</th>\n      <th></th>\n      <th></th>\n      <th></th>\n    </tr>\n  </thead>\n  <tbody>\n    <tr>\n      <th>Lisosia93</th>\n      <td>5</td>\n      <td>$3.79</td>\n      <td>$18.96</td>\n    </tr>\n    <tr>\n      <th>Idastidru52</th>\n      <td>4</td>\n      <td>$3.86</td>\n      <td>$15.45</td>\n    </tr>\n    <tr>\n      <th>Chamjask73</th>\n      <td>3</td>\n      <td>$4.61</td>\n      <td>$13.83</td>\n    </tr>\n    <tr>\n      <th>Iral74</th>\n      <td>4</td>\n      <td>$3.40</td>\n      <td>$13.62</td>\n    </tr>\n    <tr>\n      <th>Iskadarya95</th>\n      <td>3</td>\n      <td>$4.37</td>\n      <td>$13.10</td>\n    </tr>\n  </tbody>\n</table>\n</div>"
     },
     "metadata": {},
     "execution_count": 239
    }
   ],
   "source": [
    "group_top_spendor_df = purchase_data.groupby(\"SN\")\n",
    "group_top_spendor_df.count()\n",
    "\n",
    "#Working with Groupby SN dataframe\n",
    "analysis_by_spendor = pd.DataFrame(group_top_spendor_df[\"Purchase ID\"].count())\n",
    "analysis_by_spendor\n",
    "\n",
    "#looking at total purchase\n",
    "total_purchase_value = group_top_spendor_df[\"Price\"].sum()\n",
    "total_purchase_value\n",
    "\n",
    "#looking at AVG purchase\n",
    "avg_purchase_price = group_top_spendor_df[\"Price\"].mean()\n",
    "avg_purchase_price\n",
    "dlr_avg_purchase_price = avg_purchase_price.map(\"${:,.2f}\".format)\n",
    "dlr_avg_purchase_price\n",
    "\n",
    "#Org and add column\n",
    "analysis_by_spendor[\"Average Purchase Price\"] = dlr_avg_purchase_price\n",
    "analysis_by_spendor[\"Total Purchase Value\"] = total_purchase_value\n",
    "analysis_by_spendor\n",
    "\n",
    "#Top spender summary\n",
    "SUM_SN_purchased_data_df = analysis_by_SPENDOR_df.rename(columns={\"Purchase ID\":\"Purchase Count\"})\n",
    "TOP5_spendors_df=SUM_SN_purchased_data_df.sort_values(\"Total Purchase Value\", ascending=False)\n",
    "TOP5_spendors_df.head()\n",
    "\n",
    "#format\n",
    "dlr_total_purchase_value_SN = total_purchase_value_SN.map(\"${:,.2f}\".format)\n",
    "TOP5_spendors_df[\"Total Purchase Value\"] = dlr_total_purchase_value_SN\n",
    "TOP5_spendors_df.head()\n"
   ]
  },
  {
   "cell_type": "code",
   "execution_count": 244,
   "metadata": {},
   "outputs": [
    {
     "output_type": "execute_result",
     "data": {
      "text/plain": [
       "                                                      Purchase Count  \\\n",
       "Item ID Item Name                                                      \n",
       "92      Final Critic                                              13   \n",
       "178     Oathbreaker, Last Hope of the Breaking Storm              12   \n",
       "145     Fiery Glass Crusader                                       9   \n",
       "132     Persuasion                                                 9   \n",
       "108     Extraction, Quickblade Of Trembling Hands                  9   \n",
       "\n",
       "                                                     Item Price  \\\n",
       "Item ID Item Name                                                 \n",
       "92      Final Critic                                      $4.61   \n",
       "178     Oathbreaker, Last Hope of the Breaking Storm      $4.23   \n",
       "145     Fiery Glass Crusader                              $4.58   \n",
       "132     Persuasion                                        $3.22   \n",
       "108     Extraction, Quickblade Of Trembling Hands         $3.53   \n",
       "\n",
       "                                                     Total Purchase Value  \n",
       "Item ID Item Name                                                          \n",
       "92      Final Critic                                               $59.99  \n",
       "178     Oathbreaker, Last Hope of the Breaking Storm               $50.76  \n",
       "145     Fiery Glass Crusader                                       $41.22  \n",
       "132     Persuasion                                                 $28.99  \n",
       "108     Extraction, Quickblade Of Trembling Hands                  $31.77  "
      ],
      "text/html": "<div>\n<style scoped>\n    .dataframe tbody tr th:only-of-type {\n        vertical-align: middle;\n    }\n\n    .dataframe tbody tr th {\n        vertical-align: top;\n    }\n\n    .dataframe thead th {\n        text-align: right;\n    }\n</style>\n<table border=\"1\" class=\"dataframe\">\n  <thead>\n    <tr style=\"text-align: right;\">\n      <th></th>\n      <th></th>\n      <th>Purchase Count</th>\n      <th>Item Price</th>\n      <th>Total Purchase Value</th>\n    </tr>\n    <tr>\n      <th>Item ID</th>\n      <th>Item Name</th>\n      <th></th>\n      <th></th>\n      <th></th>\n    </tr>\n  </thead>\n  <tbody>\n    <tr>\n      <th>92</th>\n      <th>Final Critic</th>\n      <td>13</td>\n      <td>$4.61</td>\n      <td>$59.99</td>\n    </tr>\n    <tr>\n      <th>178</th>\n      <th>Oathbreaker, Last Hope of the Breaking Storm</th>\n      <td>12</td>\n      <td>$4.23</td>\n      <td>$50.76</td>\n    </tr>\n    <tr>\n      <th>145</th>\n      <th>Fiery Glass Crusader</th>\n      <td>9</td>\n      <td>$4.58</td>\n      <td>$41.22</td>\n    </tr>\n    <tr>\n      <th>132</th>\n      <th>Persuasion</th>\n      <td>9</td>\n      <td>$3.22</td>\n      <td>$28.99</td>\n    </tr>\n    <tr>\n      <th>108</th>\n      <th>Extraction, Quickblade Of Trembling Hands</th>\n      <td>9</td>\n      <td>$3.53</td>\n      <td>$31.77</td>\n    </tr>\n  </tbody>\n</table>\n</div>"
     },
     "metadata": {},
     "execution_count": 244
    }
   ],
   "source": [
    "grp_top_item_df = purchase_data.groupby([\"Item ID\", \"Item Name\"])\n",
    "grp_top_item_df.count()\n",
    "\n",
    "#item DF\n",
    "item_analysis = pd.DataFrame(grp_top_item_df[\"Purchase ID\"].count())\n",
    "item_analysis\n",
    "\n",
    "# Get Total purchase value by Item\n",
    "total_purch_value = grp_top_item_df[\"Price\"].sum()\n",
    "total_purch_value\n",
    "dlr_total_purch_value = total_purch_value.map(\"${:,.2f}\".format)\n",
    "dlr_total_purch_value\n",
    "\n",
    "# Get purchase price by Item\n",
    "purchase_price = grp_top_item_df[\"Price\"].mean()\n",
    "purchase_price\n",
    "dlr_purchase_price = purchase_price.map(\"${:,.2f}\".format)\n",
    "dlr_purchase_price\n",
    "\n",
    "# Org summary Item data\n",
    "item_analysis[\"Item Price\"] = dlr_purchase_price\n",
    "item_analysis[\"Total Purchase Value\"] = dlr_total_purch_value\n",
    "analysis_by_ITEM_df\n",
    "\n",
    "# Popular item summary\n",
    "summary_item_purchased_data = item_analysis.rename(columns={\"Purchase ID\":\"Purchase Count\"})\n",
    "TOP5_ITEMS_df=summary_item_purchased_data.sort_values(\"Purchase Count\", ascending=False)\n",
    "TOP5_ITEMS_df.head()"
   ]
  },
  {
   "cell_type": "code",
   "execution_count": 245,
   "metadata": {},
   "outputs": [
    {
     "output_type": "execute_result",
     "data": {
      "text/plain": [
       "                                                      Purchase Count  \\\n",
       "Item ID Item Name                                                      \n",
       "92      Final Critic                                              13   \n",
       "178     Oathbreaker, Last Hope of the Breaking Storm              12   \n",
       "82      Nirvana                                                    9   \n",
       "145     Fiery Glass Crusader                                       9   \n",
       "103     Singed Scalpel                                             8   \n",
       "\n",
       "                                                     Item Price  \\\n",
       "Item ID Item Name                                                 \n",
       "92      Final Critic                                      $4.61   \n",
       "178     Oathbreaker, Last Hope of the Breaking Storm      $4.23   \n",
       "82      Nirvana                                           $4.90   \n",
       "145     Fiery Glass Crusader                              $4.58   \n",
       "103     Singed Scalpel                                    $4.35   \n",
       "\n",
       "                                                     Total Purchase Value  \n",
       "Item ID Item Name                                                          \n",
       "92      Final Critic                                               $59.99  \n",
       "178     Oathbreaker, Last Hope of the Breaking Storm               $50.76  \n",
       "82      Nirvana                                                    $44.10  \n",
       "145     Fiery Glass Crusader                                       $41.22  \n",
       "103     Singed Scalpel                                             $34.80  "
      ],
      "text/html": "<div>\n<style scoped>\n    .dataframe tbody tr th:only-of-type {\n        vertical-align: middle;\n    }\n\n    .dataframe tbody tr th {\n        vertical-align: top;\n    }\n\n    .dataframe thead th {\n        text-align: right;\n    }\n</style>\n<table border=\"1\" class=\"dataframe\">\n  <thead>\n    <tr style=\"text-align: right;\">\n      <th></th>\n      <th></th>\n      <th>Purchase Count</th>\n      <th>Item Price</th>\n      <th>Total Purchase Value</th>\n    </tr>\n    <tr>\n      <th>Item ID</th>\n      <th>Item Name</th>\n      <th></th>\n      <th></th>\n      <th></th>\n    </tr>\n  </thead>\n  <tbody>\n    <tr>\n      <th>92</th>\n      <th>Final Critic</th>\n      <td>13</td>\n      <td>$4.61</td>\n      <td>$59.99</td>\n    </tr>\n    <tr>\n      <th>178</th>\n      <th>Oathbreaker, Last Hope of the Breaking Storm</th>\n      <td>12</td>\n      <td>$4.23</td>\n      <td>$50.76</td>\n    </tr>\n    <tr>\n      <th>82</th>\n      <th>Nirvana</th>\n      <td>9</td>\n      <td>$4.90</td>\n      <td>$44.10</td>\n    </tr>\n    <tr>\n      <th>145</th>\n      <th>Fiery Glass Crusader</th>\n      <td>9</td>\n      <td>$4.58</td>\n      <td>$41.22</td>\n    </tr>\n    <tr>\n      <th>103</th>\n      <th>Singed Scalpel</th>\n      <td>8</td>\n      <td>$4.35</td>\n      <td>$34.80</td>\n    </tr>\n  </tbody>\n</table>\n</div>"
     },
     "metadata": {},
     "execution_count": 245
    }
   ],
   "source": [
    "summary_item_purchased_data[\"Total Purchase Value\"] = grp_top_item_df[\"Price\"].sum()\n",
    "summary_item_purchased_data\n",
    "\n",
    "# Summary Most Popular Item \n",
    "TOP5_ITEMS_df=summary_item_purchased_data.sort_values(\"Total Purchase Value\", ascending=False)\n",
    "\n",
    "# Format Total Purchase Price to be in dollar form go back and format cells from earlier\n",
    "dlr_total_purchase_value_ITEM = total_purchase_value_ITEM.map(\"${:,.2f}\".format)\n",
    "TOP5_ITEMS_df[\"Total Purchase Value\"] = dlr_total_purchase_value_ITEM\n",
    "TOP5_ITEMS_df.head()"
   ]
  },
  {
   "cell_type": "code",
   "execution_count": null,
   "metadata": {},
   "outputs": [],
   "source": []
  }
 ]
}